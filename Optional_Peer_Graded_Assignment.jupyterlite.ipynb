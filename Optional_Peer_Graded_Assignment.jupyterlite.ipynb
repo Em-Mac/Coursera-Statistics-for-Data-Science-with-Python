{
  "metadata": {
    "kernelspec": {
      "name": "python",
      "display_name": "Python (Pyodide)",
      "language": "python"
    },
    "language_info": {
      "codemirror_mode": {
        "name": "python",
        "version": 3
      },
      "file_extension": ".py",
      "mimetype": "text/x-python",
      "name": "python",
      "nbconvert_exporter": "python",
      "pygments_lexer": "ipython3",
      "version": "3.8"
    }
  },
  "nbformat_minor": 4,
  "nbformat": 4,
  "cells": [
    {
      "cell_type": "markdown",
      "source": "<p style=\"text-align:center\">\n    <a href=\"https://skills.network/?utm_medium=Exinfluencer&utm_source=Exinfluencer&utm_content=000026UJ&utm_term=10006555&utm_id=NA-SkillsNetwork-Channel-SkillsNetworkCoursesIBMDeveloperSkillsNetworkST0151ENSkillsNetwork20531532-2022-01-01\" target=\"_blank\">\n    <img src=\"https://cf-courses-data.s3.us.cloud-object-storage.appdomain.cloud/assets/logos/SN_web_lightmode.png\" width=\"200\" alt=\"Skills Network Logo\"  />\n    </a>\n</p>\n\n",
      "metadata": {}
    },
    {
      "cell_type": "markdown",
      "source": "#### Import the required libraries we need for the lab.\n",
      "metadata": {}
    },
    {
      "cell_type": "code",
      "source": "import piplite\nawait piplite.install(['numpy'],['pandas'])\nawait piplite.install(['seaborn'])",
      "metadata": {
        "trusted": true
      },
      "outputs": [],
      "execution_count": 1
    },
    {
      "cell_type": "code",
      "source": "import pandas as pd\nimport seaborn as sns\nimport matplotlib.pyplot as pyplot\nimport scipy.stats\nimport statsmodels.api as sm\nfrom statsmodels.formula.api import ols",
      "metadata": {
        "trusted": true
      },
      "outputs": [
        {
          "name": "stderr",
          "text": "<ipython-input-2-4df13306bf58>:1: DeprecationWarning: \nPyarrow will become a required dependency of pandas in the next major release of pandas (pandas 3.0),\n(to allow more performant data types, such as the Arrow string type, and better interoperability with other libraries)\nbut was not found to be installed on your system.\nIf this would cause problems for you,\nplease provide us feedback at https://github.com/pandas-dev/pandas/issues/54466\n        \n  import pandas as pd\n",
          "output_type": "stream"
        }
      ],
      "execution_count": 2
    },
    {
      "cell_type": "markdown",
      "source": "#### Read the dataset in the csv file from the URL\n",
      "metadata": {}
    },
    {
      "cell_type": "code",
      "source": "from js import fetch\nimport io\n\nURL = 'https://cf-courses-data.s3.us.cloud-object-storage.appdomain.cloud/IBMDeveloperSkillsNetwork-ST0151EN-SkillsNetwork/labs/boston_housing.csv'\nresp = await fetch(URL)\nboston_url = io.BytesIO((await resp.arrayBuffer()).to_py())",
      "metadata": {
        "trusted": true
      },
      "outputs": [],
      "execution_count": 3
    },
    {
      "cell_type": "code",
      "source": "boston_df=pd.read_csv(boston_url)",
      "metadata": {
        "trusted": true
      },
      "outputs": [],
      "execution_count": 4
    },
    {
      "cell_type": "markdown",
      "source": "#### Add your code below following the instructions given in the course to complete the peer graded assignment\n",
      "metadata": {}
    },
    {
      "cell_type": "markdown",
      "source": "Upper management will like to get some insight into the following.\n\n- Is there a significant difference in the median value of houses bounded by the Charles river or not?\n\n- Is there a difference in median values of houses of each proportion of owner-occupied units built before 1940?\n\n- Can we conclude that there is no relationship between Nitric oxide concentrations and the proportion of non-retail business acres per town?\n\n- What is the impact of an additional weighted distance to the five Boston employment centres on the median value of owner-occupied homes?\n\nUsing the appropriate graphs and charts, generate basic statistics and visualizations that you think will be useful for the upper management to give them important insight given the question they are asking, in your graphs, include an explanation of each statistic. \n\n",
      "metadata": {}
    },
    {
      "cell_type": "markdown",
      "source": "Project Tasks:\n\n**Task 1**: Familiarize yourself with the dataset \n- CRIM - per capita crime rate by town\n- ZN - proportion of residential land zoned for lots over 25,000 sq.ft.\n- INDUS - proportion of non-retail business acres per town.\n- CHAS - Charles River dummy variable (1 if tract bounds river; 0 otherwise)\n- NOX - nitric oxides concentration (parts per 10 million)\n- RM - average number of rooms per dwelling\n- AGE - proportion of owner-occupied units built prior to 1940\n- DIS - weighted distances to five Boston employment centres\n- RAD - index of accessibility to radial highways\n- TAX - full-value property-tax rate per $10,000\n\n- PTRATIO - pupil-teacher ratio by town\n- LSTAT - % lower status of the population\n- MEDV - Median value of owner-occupied homes in $1000's",
      "metadata": {}
    },
    {
      "cell_type": "markdown",
      "source": "**Task 2**: Generate basic statistics and visualizations for upper management. \nGenerate the following and explain your findings:\n- For the \"Median value of owner-occupied homes\" provide a boxplot\n- Provide a  bar plot for the Charles river variable\n- Provide a boxplot for the MEDV variable vs the AGE variable. (Discretize the age variable into three groups of 35 years and younger, between 35 and 70 years and 70 years and older)\n- Provide a scatter plot to show the relationship between Nitric oxide concentrations and the proportion of non-retail business acres per town. What can you say about the relationship?\n- Create a histogram for the pupil to teacher ratio variable",
      "metadata": {}
    },
    {
      "cell_type": "markdown",
      "source": "**Task 3**: Use the appropriate tests to answer the questions provided.\nFor each of the following questions;\n\n- Is there a significant difference in median value of houses bounded by the Charles river or not? (T-test for independent samples)\n- Is there a difference in Median values of houses (MEDV) for each proportion of owner occupied units built prior to 1940 (AGE)? (ANOVA)\n- Can we conclude that there is no relationship between Nitric oxide concentrations and proportion of non-retail business acres per town? (Pearson Correlation)\n- What is the impact of an additional weighted distance  to the five Boston employment centres on the median value of owner occupied homes? (Regression analysis)\n\n*Be sure to:*\n\n- *State your hypothesis.*\n- *Use α = 0.05*\n- *Perform the test Statistics.*\n- *State the conclusion from the test.*\n\n**Task 4**: Share your Jupyter Notebook.",
      "metadata": {}
    },
    {
      "cell_type": "code",
      "source": "boston_df.head()",
      "metadata": {
        "trusted": true
      },
      "outputs": [
        {
          "execution_count": 5,
          "output_type": "execute_result",
          "data": {
            "text/plain": "   Unnamed: 0     CRIM    ZN  INDUS  CHAS    NOX     RM   AGE     DIS  RAD  \\\n0           0  0.00632  18.0   2.31   0.0  0.538  6.575  65.2  4.0900  1.0   \n1           1  0.02731   0.0   7.07   0.0  0.469  6.421  78.9  4.9671  2.0   \n2           2  0.02729   0.0   7.07   0.0  0.469  7.185  61.1  4.9671  2.0   \n3           3  0.03237   0.0   2.18   0.0  0.458  6.998  45.8  6.0622  3.0   \n4           4  0.06905   0.0   2.18   0.0  0.458  7.147  54.2  6.0622  3.0   \n\n     TAX  PTRATIO  LSTAT  MEDV  \n0  296.0     15.3   4.98  24.0  \n1  242.0     17.8   9.14  21.6  \n2  242.0     17.8   4.03  34.7  \n3  222.0     18.7   2.94  33.4  \n4  222.0     18.7   5.33  36.2  ",
            "text/html": "<div>\n<style scoped>\n    .dataframe tbody tr th:only-of-type {\n        vertical-align: middle;\n    }\n\n    .dataframe tbody tr th {\n        vertical-align: top;\n    }\n\n    .dataframe thead th {\n        text-align: right;\n    }\n</style>\n<table border=\"1\" class=\"dataframe\">\n  <thead>\n    <tr style=\"text-align: right;\">\n      <th></th>\n      <th>Unnamed: 0</th>\n      <th>CRIM</th>\n      <th>ZN</th>\n      <th>INDUS</th>\n      <th>CHAS</th>\n      <th>NOX</th>\n      <th>RM</th>\n      <th>AGE</th>\n      <th>DIS</th>\n      <th>RAD</th>\n      <th>TAX</th>\n      <th>PTRATIO</th>\n      <th>LSTAT</th>\n      <th>MEDV</th>\n    </tr>\n  </thead>\n  <tbody>\n    <tr>\n      <th>0</th>\n      <td>0</td>\n      <td>0.00632</td>\n      <td>18.0</td>\n      <td>2.31</td>\n      <td>0.0</td>\n      <td>0.538</td>\n      <td>6.575</td>\n      <td>65.2</td>\n      <td>4.0900</td>\n      <td>1.0</td>\n      <td>296.0</td>\n      <td>15.3</td>\n      <td>4.98</td>\n      <td>24.0</td>\n    </tr>\n    <tr>\n      <th>1</th>\n      <td>1</td>\n      <td>0.02731</td>\n      <td>0.0</td>\n      <td>7.07</td>\n      <td>0.0</td>\n      <td>0.469</td>\n      <td>6.421</td>\n      <td>78.9</td>\n      <td>4.9671</td>\n      <td>2.0</td>\n      <td>242.0</td>\n      <td>17.8</td>\n      <td>9.14</td>\n      <td>21.6</td>\n    </tr>\n    <tr>\n      <th>2</th>\n      <td>2</td>\n      <td>0.02729</td>\n      <td>0.0</td>\n      <td>7.07</td>\n      <td>0.0</td>\n      <td>0.469</td>\n      <td>7.185</td>\n      <td>61.1</td>\n      <td>4.9671</td>\n      <td>2.0</td>\n      <td>242.0</td>\n      <td>17.8</td>\n      <td>4.03</td>\n      <td>34.7</td>\n    </tr>\n    <tr>\n      <th>3</th>\n      <td>3</td>\n      <td>0.03237</td>\n      <td>0.0</td>\n      <td>2.18</td>\n      <td>0.0</td>\n      <td>0.458</td>\n      <td>6.998</td>\n      <td>45.8</td>\n      <td>6.0622</td>\n      <td>3.0</td>\n      <td>222.0</td>\n      <td>18.7</td>\n      <td>2.94</td>\n      <td>33.4</td>\n    </tr>\n    <tr>\n      <th>4</th>\n      <td>4</td>\n      <td>0.06905</td>\n      <td>0.0</td>\n      <td>2.18</td>\n      <td>0.0</td>\n      <td>0.458</td>\n      <td>7.147</td>\n      <td>54.2</td>\n      <td>6.0622</td>\n      <td>3.0</td>\n      <td>222.0</td>\n      <td>18.7</td>\n      <td>5.33</td>\n      <td>36.2</td>\n    </tr>\n  </tbody>\n</table>\n</div>"
          },
          "metadata": {}
        }
      ],
      "execution_count": 5
    },
    {
      "cell_type": "markdown",
      "source": "#### Is there a significant difference in median value of houses bounded by the Charles river or not? (T-test for independent samples)\n",
      "metadata": {}
    },
    {
      "cell_type": "code",
      "source": "# Null Hypothesis (There is no significant difference in the median value of houses bounded by the Charles River (CHAS = 1) compared to those that are not (CHAS = 0).\n#Alternative Hypothesis (There is a significant difference in the median value of houses bounded by the Charles River (CHAS = 1) compared to those that are not \n#(CHAS = 0). Mathematically, this can be stated as:\n\n#Use the ttest_ind from the scipy_stats library\nt_statistic, p_value = scipy.stats.ttest_ind(boston_df[boston_df['CHAS'] == 1]['MEDV'], boston_df[boston_df['CHAS'] == 0]['MEDV'], equal_var=False)",
      "metadata": {
        "trusted": true
      },
      "outputs": [],
      "execution_count": 6
    },
    {
      "cell_type": "code",
      "source": "# Conclusion\nalpha = 0.05\nif p_value < alpha:\n    conclusion = \"Reject the null hypothesis. There is a significant difference in the median value of houses bounded by the Charles River compared to those that are not.\"\nelse:\n    conclusion = \"Fail to reject the null hypothesis. There is no significant difference in the median value of houses bounded by the Charles River compared to those that are not.\"\n\nprint(conclusion)",
      "metadata": {
        "trusted": true
      },
      "outputs": [
        {
          "name": "stdout",
          "text": "Reject the null hypothesis. There is a significant difference in the median value of houses bounded by the Charles River compared to those that are not.\n",
          "output_type": "stream"
        }
      ],
      "execution_count": 13
    },
    {
      "cell_type": "markdown",
      "source": "#### Is there a difference in Median values of houses (MEDV) for each proportion of owner occupied units built prior to 1940 (AGE)? (ANOVA)",
      "metadata": {}
    },
    {
      "cell_type": "code",
      "source": "\n#Null Hypothesis (There is no difference in the median values of houses (MEDV) across the different age groups ('low', 'medium', 'high', 'very_high')\n# of owner-occupied units built prior to 1940.\n#Alternative Hypothesis (There is a difference in the median values of houses (MEDV) across the different age groups of owner-occupied units built prior to 1940.\n\n# Creating a new column 'AGE_group' for the categories\nboston_df['AGE_group'] = pd.cut(boston_df['AGE'], bins=[-float('inf'), 30, 60, 90, float('inf')], labels=['low', 'medium', 'high', 'very_high'])\n\n# Creating groups\nlow = boston_df[boston_df['AGE_group'] == 'low']['MEDV']\nmedium = boston_df[boston_df['AGE_group'] == 'medium']['MEDV']\nhigh = boston_df[boston_df['AGE_group'] == 'high']['MEDV']\nvery_high = boston_df[boston_df['AGE_group'] == 'very_high']['MEDV']\n\n#Running ANOVA\nf_statistic, p_value = scipy.stats.f_oneway(low, medium, high, very_high)\nprint(\"F_Statistic: {0}, P-Value: {1}\".format(f_statistic,p_value))",
      "metadata": {
        "trusted": true
      },
      "outputs": [
        {
          "name": "stdout",
          "text": "F_Statistic: 27.305009674502138, P-Value: 2.262063105392741e-16\n",
          "output_type": "stream"
        }
      ],
      "execution_count": 8
    },
    {
      "cell_type": "code",
      "source": "# Conclusion\nalpha = 0.05\nif p_value < alpha:\n    conclusion = \"Reject the null hypothesis. There is a significant difference in the median values of houses (MEDV) across the different age groups ('low', 'medium', 'high', 'very_high') of owner-occupied units built prior to 1940.\"\nelse:\n    conclusion = \"Fail to reject the null hypothesis. There is no significant difference in the median values of houses (MEDV) across the different age groups ('low', 'medium', 'high', 'very_high') of owner-occupied units built prior to 1940.\"\n\nprint(conclusion)",
      "metadata": {
        "trusted": true
      },
      "outputs": [
        {
          "name": "stdout",
          "text": "Reject the null hypothesis. There is a significant difference in the median values of houses (MEDV) across the different age groups ('low', 'medium', 'high', 'very_high') of owner-occupied units built prior to 1940.\n",
          "output_type": "stream"
        }
      ],
      "execution_count": 12
    },
    {
      "cell_type": "markdown",
      "source": "#### Can we conclude that there is no relationship between Nitric oxide concentrations and proportion of non-retail business acres per town? (Pearson Correlation)",
      "metadata": {}
    },
    {
      "cell_type": "code",
      "source": "# Null Hypothesis (There is no linear relationship between NOX and INDUS). \n#Alternative Hypothesis (There is a linear relationship between NOX and INDUS).\n\n# Calculate the Pearson correlation coefficient and p-value\npearson_corr, p_value = scipy.stats.pearsonr(boston_df['NOX'], boston_df['INDUS'])\n\n# Print the results\nprint(\"Pearson Correlation Coefficient: {:.4f}\".format(pearson_corr))\nprint(\"P-Value: {:.4f}\".format(p_value))",
      "metadata": {
        "trusted": true
      },
      "outputs": [
        {
          "name": "stdout",
          "text": "Pearson Correlation Coefficient: 0.7637\nP-Value: 0.0000\n",
          "output_type": "stream"
        }
      ],
      "execution_count": 10
    },
    {
      "cell_type": "code",
      "source": "# Conclusion\nif p_value < 0.05:\n    print(\"Reject the null hypothesis. There is a significant linear relationship between NOX and INDUS.\")\nelse:\n    print(\"Fail to reject the null hypothesis. There is no significant linear relationship between NOX and INDUS.\")",
      "metadata": {
        "trusted": true
      },
      "outputs": [
        {
          "name": "stdout",
          "text": "Reject the null hypothesis. There is a significant linear relationship between NOX and INDUS.\n",
          "output_type": "stream"
        }
      ],
      "execution_count": 11
    },
    {
      "cell_type": "markdown",
      "source": "#### What is the impact of an additional weighted distance to the five Boston employment centres on the median value of owner occupied homes? (Regression analysis)",
      "metadata": {}
    },
    {
      "cell_type": "code",
      "source": "#Null Hypothesis: The weighted distance to the Boston employment centres (DIS) has no impact on the median value of owner-occupied homes (MEDV).\n#Alternative Hypothesis: The weighted distance to the Boston employment centres (DIS) has an impact (positive or negative) on the median value of owner-occupied homes (MEDV).\n\n# Define X (independent variable) and y (dependent variable)\nX = boston_df['DIS']  # Weighted distances to Boston employment centres\ny = boston_df['MEDV']  # Median value of owner-occupied homes\n\n# Add constant to X\nX = sm.add_constant(X)\n\n# Fit the OLS (Ordinary Least Squares) model\nmodel = sm.OLS(y, X).fit()\n\n# Print model summary\nmodel.summary()",
      "metadata": {
        "trusted": true
      },
      "outputs": [
        {
          "execution_count": 15,
          "output_type": "execute_result",
          "data": {
            "text/plain": "<class 'statsmodels.iolib.summary.Summary'>\n\"\"\"\n                            OLS Regression Results                            \n==============================================================================\nDep. Variable:                   MEDV   R-squared:                       0.062\nModel:                            OLS   Adj. R-squared:                  0.061\nMethod:                 Least Squares   F-statistic:                     33.58\nDate:                Thu, 01 Aug 2024   Prob (F-statistic):           1.21e-08\nTime:                        11:57:27   Log-Likelihood:                -1823.9\nNo. Observations:                 506   AIC:                             3652.\nDf Residuals:                     504   BIC:                             3660.\nDf Model:                           1                                         \nCovariance Type:            nonrobust                                         \n==============================================================================\n                 coef    std err          t      P>|t|      [0.025      0.975]\n------------------------------------------------------------------------------\nconst         18.3901      0.817     22.499      0.000      16.784      19.996\nDIS            1.0916      0.188      5.795      0.000       0.722       1.462\n==============================================================================\nOmnibus:                      139.779   Durbin-Watson:                   0.570\nProb(Omnibus):                  0.000   Jarque-Bera (JB):              305.104\nSkew:                           1.466   Prob(JB):                     5.59e-67\nKurtosis:                       5.424   Cond. No.                         9.32\n==============================================================================\n\nNotes:\n[1] Standard Errors assume that the covariance matrix of the errors is correctly specified.\n\"\"\"",
            "text/html": "<table class=\"simpletable\">\n<caption>OLS Regression Results</caption>\n<tr>\n  <th>Dep. Variable:</th>          <td>MEDV</td>       <th>  R-squared:         </th> <td>   0.062</td>\n</tr>\n<tr>\n  <th>Model:</th>                   <td>OLS</td>       <th>  Adj. R-squared:    </th> <td>   0.061</td>\n</tr>\n<tr>\n  <th>Method:</th>             <td>Least Squares</td>  <th>  F-statistic:       </th> <td>   33.58</td>\n</tr>\n<tr>\n  <th>Date:</th>             <td>Thu, 01 Aug 2024</td> <th>  Prob (F-statistic):</th> <td>1.21e-08</td>\n</tr>\n<tr>\n  <th>Time:</th>                 <td>11:57:27</td>     <th>  Log-Likelihood:    </th> <td> -1823.9</td>\n</tr>\n<tr>\n  <th>No. Observations:</th>      <td>   506</td>      <th>  AIC:               </th> <td>   3652.</td>\n</tr>\n<tr>\n  <th>Df Residuals:</th>          <td>   504</td>      <th>  BIC:               </th> <td>   3660.</td>\n</tr>\n<tr>\n  <th>Df Model:</th>              <td>     1</td>      <th>                     </th>     <td> </td>   \n</tr>\n<tr>\n  <th>Covariance Type:</th>      <td>nonrobust</td>    <th>                     </th>     <td> </td>   \n</tr>\n</table>\n<table class=\"simpletable\">\n<tr>\n    <td></td>       <th>coef</th>     <th>std err</th>      <th>t</th>      <th>P>|t|</th>  <th>[0.025</th>    <th>0.975]</th>  \n</tr>\n<tr>\n  <th>const</th> <td>   18.3901</td> <td>    0.817</td> <td>   22.499</td> <td> 0.000</td> <td>   16.784</td> <td>   19.996</td>\n</tr>\n<tr>\n  <th>DIS</th>   <td>    1.0916</td> <td>    0.188</td> <td>    5.795</td> <td> 0.000</td> <td>    0.722</td> <td>    1.462</td>\n</tr>\n</table>\n<table class=\"simpletable\">\n<tr>\n  <th>Omnibus:</th>       <td>139.779</td> <th>  Durbin-Watson:     </th> <td>   0.570</td>\n</tr>\n<tr>\n  <th>Prob(Omnibus):</th> <td> 0.000</td>  <th>  Jarque-Bera (JB):  </th> <td> 305.104</td>\n</tr>\n<tr>\n  <th>Skew:</th>          <td> 1.466</td>  <th>  Prob(JB):          </th> <td>5.59e-67</td>\n</tr>\n<tr>\n  <th>Kurtosis:</th>      <td> 5.424</td>  <th>  Cond. No.          </th> <td>    9.32</td>\n</tr>\n</table><br/><br/>Notes:<br/>[1] Standard Errors assume that the covariance matrix of the errors is correctly specified.",
            "text/latex": "\\begin{center}\n\\begin{tabular}{lclc}\n\\toprule\n\\textbf{Dep. Variable:}    &       MEDV       & \\textbf{  R-squared:         } &     0.062   \\\\\n\\textbf{Model:}            &       OLS        & \\textbf{  Adj. R-squared:    } &     0.061   \\\\\n\\textbf{Method:}           &  Least Squares   & \\textbf{  F-statistic:       } &     33.58   \\\\\n\\textbf{Date:}             & Thu, 01 Aug 2024 & \\textbf{  Prob (F-statistic):} &  1.21e-08   \\\\\n\\textbf{Time:}             &     11:57:27     & \\textbf{  Log-Likelihood:    } &   -1823.9   \\\\\n\\textbf{No. Observations:} &         506      & \\textbf{  AIC:               } &     3652.   \\\\\n\\textbf{Df Residuals:}     &         504      & \\textbf{  BIC:               } &     3660.   \\\\\n\\textbf{Df Model:}         &           1      & \\textbf{                     } &             \\\\\n\\textbf{Covariance Type:}  &    nonrobust     & \\textbf{                     } &             \\\\\n\\bottomrule\n\\end{tabular}\n\\begin{tabular}{lcccccc}\n               & \\textbf{coef} & \\textbf{std err} & \\textbf{t} & \\textbf{P$> |$t$|$} & \\textbf{[0.025} & \\textbf{0.975]}  \\\\\n\\midrule\n\\textbf{const} &      18.3901  &        0.817     &    22.499  &         0.000        &       16.784    &       19.996     \\\\\n\\textbf{DIS}   &       1.0916  &        0.188     &     5.795  &         0.000        &        0.722    &        1.462     \\\\\n\\bottomrule\n\\end{tabular}\n\\begin{tabular}{lclc}\n\\textbf{Omnibus:}       & 139.779 & \\textbf{  Durbin-Watson:     } &    0.570  \\\\\n\\textbf{Prob(Omnibus):} &   0.000 & \\textbf{  Jarque-Bera (JB):  } &  305.104  \\\\\n\\textbf{Skew:}          &   1.466 & \\textbf{  Prob(JB):          } & 5.59e-67  \\\\\n\\textbf{Kurtosis:}      &   5.424 & \\textbf{  Cond. No.          } &     9.32  \\\\\n\\bottomrule\n\\end{tabular}\n%\\caption{OLS Regression Results}\n\\end{center}\n\nNotes: \\newline\n [1] Standard Errors assume that the covariance matrix of the errors is correctly specified."
          },
          "metadata": {}
        }
      ],
      "execution_count": 15
    },
    {
      "cell_type": "markdown",
      "source": "As **p-value < 0.05**: We reject the null hypothesis. This suggests that there is a statistically significant impact of the weighted distance to Boston employment centres (DIS) on the median value of owner-occupied homes (MEDV).",
      "metadata": {}
    },
    {
      "cell_type": "code",
      "source": "",
      "metadata": {
        "trusted": true
      },
      "outputs": [],
      "execution_count": null
    }
  ]
}